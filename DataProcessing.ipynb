{
 "cells": [
  {
   "cell_type": "markdown",
   "metadata": {},
   "source": [
    "## Imports"
   ]
  },
  {
   "cell_type": "code",
   "execution_count": 23,
   "metadata": {},
   "outputs": [],
   "source": [
    "import pandas as pd\n",
    "import matplotlib.pyplot as plt\n",
    "import numpy as np\n",
    "import os\n",
    "import io"
   ]
  },
  {
   "cell_type": "markdown",
   "metadata": {},
   "source": [
    "## File to CSV"
   ]
  },
  {
   "cell_type": "code",
   "execution_count": 56,
   "metadata": {},
   "outputs": [],
   "source": [
    "dir = \"Data/hotels/\"\n",
    "num = 0\n",
    "for city in os.listdir(dir):\n",
    "\ttext = \"\"\n",
    "\tfname = os.path.join(dir, city)\n",
    "\tfor hotel in os.listdir(fname):\n",
    "\t\thname = os.path.join(fname, hotel)\n",
    "\t\tif os.path.isfile(hname):\n",
    "\t\t\twith open(hname, encoding=\"utf8\", errors='ignore') as f:\n",
    "\t\t\t\ttext += f.read()\n",
    "\n",
    "\tdf = pd.DataFrame([x.split('\\t')[:3] for x in text.split('\\n')], columns=(\"Date\", \"Title\", \"Review\"))\n",
    "\tdf.to_csv(f\"Data/Cities/{city}.csv\", index=False)\n",
    "\tnum += df.shape[0]"
   ]
  },
  {
   "cell_type": "code",
   "execution_count": 57,
   "metadata": {},
   "outputs": [
    {
     "name": "stdout",
     "output_type": "stream",
     "text": [
      "256271\n"
     ]
    }
   ],
   "source": [
    "print(num)"
   ]
  },
  {
   "cell_type": "code",
   "execution_count": 64,
   "metadata": {},
   "outputs": [
    {
     "name": "stdout",
     "output_type": "stream",
     "text": [
      "P(B) = 0.24665247214967925 and n = 32\n"
     ]
    }
   ],
   "source": [
    "pb = 1\n",
    "n = 1\n",
    "days = 365\n",
    "while pb > 0.25:\n",
    "    pb = pb * (days/365)\n",
    "    if pb < 0.25:\n",
    "        print(f\"P(B) = {pb} and n = {n}\")\n",
    "    days -= 1\n",
    "    n += 1"
   ]
  }
 ],
 "metadata": {
  "kernelspec": {
   "display_name": "base",
   "language": "python",
   "name": "python3"
  },
  "language_info": {
   "codemirror_mode": {
    "name": "ipython",
    "version": 3
   },
   "file_extension": ".py",
   "mimetype": "text/x-python",
   "name": "python",
   "nbconvert_exporter": "python",
   "pygments_lexer": "ipython3",
   "version": "3.9.13"
  },
  "orig_nbformat": 4
 },
 "nbformat": 4,
 "nbformat_minor": 2
}
